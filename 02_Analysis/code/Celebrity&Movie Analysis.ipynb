{
 "cells": [
  {
   "cell_type": "code",
   "execution_count": 33,
   "id": "2ec12f58",
   "metadata": {},
   "outputs": [],
   "source": [
    "import os\n",
    "import os.path\n",
    "import re\n",
    "import time\n",
    "import requests\n",
    "import pandas as pd\n",
    "import matplotlib.pyplot as plt\n",
    "from pathlib import Path"
   ]
  },
  {
   "cell_type": "markdown",
   "id": "2975c159",
   "metadata": {},
   "source": [
    "Step 1. Read data"
   ]
  },
  {
   "cell_type": "code",
   "execution_count": 42,
   "id": "55c8a36b",
   "metadata": {},
   "outputs": [],
   "source": [
    "basepath = Path(\"../../01_Scraping/data\")"
   ]
  },
  {
   "cell_type": "code",
   "execution_count": 43,
   "id": "df5bf24f",
   "metadata": {},
   "outputs": [],
   "source": [
    "Celebrity = pd.read_csv(basepath / Path(\"imdb_top_100_celebs.csv\"), sep = ';')\n",
    "\n",
    "Top_movie_brief = pd.read_csv(basepath / Path(\"imdb_top_250.csv\"), sep = ';')\n",
    "\n",
    "Top_movie_detailed = pd.read_csv(basepath / Path('Top250_detailed_info.csv'))\n",
    "\n",
    "Top_movie = Top_movie_brief.merge(Top_movie_detailed,on=['Rank'])"
   ]
  },
  {
   "cell_type": "markdown",
   "id": "41dfb85a",
   "metadata": {},
   "source": [
    "Step 2. Merge"
   ]
  },
  {
   "cell_type": "code",
   "execution_count": 44,
   "id": "12146a5a",
   "metadata": {},
   "outputs": [],
   "source": [
    "Movie_n_Celebrity = pd.DataFrame(None,columns=['English_Title','Cele_name','Movie_rank','Cele_rank'])\n",
    "for index,row in  Top_movie.iterrows():\n",
    "    for Movie_guy in row['Stars'].replace(', ',',').split(','):\n",
    "        if Movie_guy in Celebrity['Name'].unique():\n",
    "            Cele_rank = Celebrity[Celebrity['Name']==Movie_guy].reset_index()['Rank'][0]\n",
    "            temp_dic ={\n",
    "                'English_Title':row['English_Title'],\n",
    "                'Cele_name':Movie_guy,\n",
    "                'Movie_rank':row['Rank'],\n",
    "                'Cele_rank':Cele_rank\n",
    "            }\n",
    "            movie_Cele = pd.DataFrame.from_dict(temp_dic, orient='index').T\n",
    "            Movie_n_Celebrity = pd.concat([Movie_n_Celebrity,movie_Cele],axis = 0,ignore_index=True)"
   ]
  },
  {
   "cell_type": "code",
   "execution_count": 61,
   "id": "53dd2344",
   "metadata": {},
   "outputs": [],
   "source": [
    "Movie_n_Celebrity.to_csv('Movie_n_Celebrity.csv')"
   ]
  },
  {
   "cell_type": "markdown",
   "id": "4503a2e6",
   "metadata": {},
   "source": [
    "Step 3. Group"
   ]
  },
  {
   "cell_type": "code",
   "execution_count": 49,
   "id": "4c2cd0eb",
   "metadata": {},
   "outputs": [
    {
     "data": {
      "text/html": [
       "<div>\n",
       "<style scoped>\n",
       "    .dataframe tbody tr th:only-of-type {\n",
       "        vertical-align: middle;\n",
       "    }\n",
       "\n",
       "    .dataframe tbody tr th {\n",
       "        vertical-align: top;\n",
       "    }\n",
       "\n",
       "    .dataframe thead th {\n",
       "        text-align: right;\n",
       "    }\n",
       "</style>\n",
       "<table border=\"1\" class=\"dataframe\">\n",
       "  <thead>\n",
       "    <tr style=\"text-align: right;\">\n",
       "      <th></th>\n",
       "      <th>English_Title</th>\n",
       "      <th>Cele_amount</th>\n",
       "      <th>Rank</th>\n",
       "      <th>Release Year</th>\n",
       "      <th>Rating</th>\n",
       "    </tr>\n",
       "  </thead>\n",
       "  <tbody>\n",
       "    <tr>\n",
       "      <th>0</th>\n",
       "      <td>The Shawshank Redemption</td>\n",
       "      <td>0.0</td>\n",
       "      <td>1</td>\n",
       "      <td>1994</td>\n",
       "      <td>9.3</td>\n",
       "    </tr>\n",
       "    <tr>\n",
       "      <th>1</th>\n",
       "      <td>The Godfather</td>\n",
       "      <td>0.0</td>\n",
       "      <td>2</td>\n",
       "      <td>1972</td>\n",
       "      <td>9.2</td>\n",
       "    </tr>\n",
       "    <tr>\n",
       "      <th>2</th>\n",
       "      <td>The Dark Knight</td>\n",
       "      <td>1.0</td>\n",
       "      <td>3</td>\n",
       "      <td>2008</td>\n",
       "      <td>9.0</td>\n",
       "    </tr>\n",
       "    <tr>\n",
       "      <th>3</th>\n",
       "      <td>The Godfather Part II</td>\n",
       "      <td>0.0</td>\n",
       "      <td>4</td>\n",
       "      <td>1974</td>\n",
       "      <td>9.0</td>\n",
       "    </tr>\n",
       "    <tr>\n",
       "      <th>4</th>\n",
       "      <td>12 Angry Men</td>\n",
       "      <td>0.0</td>\n",
       "      <td>5</td>\n",
       "      <td>1957</td>\n",
       "      <td>9.0</td>\n",
       "    </tr>\n",
       "    <tr>\n",
       "      <th>...</th>\n",
       "      <td>...</td>\n",
       "      <td>...</td>\n",
       "      <td>...</td>\n",
       "      <td>...</td>\n",
       "      <td>...</td>\n",
       "    </tr>\n",
       "    <tr>\n",
       "      <th>245</th>\n",
       "      <td>The Help</td>\n",
       "      <td>2.0</td>\n",
       "      <td>246</td>\n",
       "      <td>2011</td>\n",
       "      <td>8.1</td>\n",
       "    </tr>\n",
       "    <tr>\n",
       "      <th>246</th>\n",
       "      <td>It Happened One Night</td>\n",
       "      <td>0.0</td>\n",
       "      <td>247</td>\n",
       "      <td>1934</td>\n",
       "      <td>8.1</td>\n",
       "    </tr>\n",
       "    <tr>\n",
       "      <th>247</th>\n",
       "      <td>Aladdin</td>\n",
       "      <td>0.0</td>\n",
       "      <td>248</td>\n",
       "      <td>1992</td>\n",
       "      <td>8.0</td>\n",
       "    </tr>\n",
       "    <tr>\n",
       "      <th>248</th>\n",
       "      <td>Dances with Wolves</td>\n",
       "      <td>0.0</td>\n",
       "      <td>249</td>\n",
       "      <td>1990</td>\n",
       "      <td>8.0</td>\n",
       "    </tr>\n",
       "    <tr>\n",
       "      <th>249</th>\n",
       "      <td>Paris, Texas</td>\n",
       "      <td>0.0</td>\n",
       "      <td>250</td>\n",
       "      <td>1984</td>\n",
       "      <td>8.1</td>\n",
       "    </tr>\n",
       "  </tbody>\n",
       "</table>\n",
       "<p>250 rows × 5 columns</p>\n",
       "</div>"
      ],
      "text/plain": [
       "                English_Title  Cele_amount  Rank  Release Year Rating\n",
       "0    The Shawshank Redemption          0.0     1          1994    9.3\n",
       "1               The Godfather          0.0     2          1972    9.2\n",
       "2             The Dark Knight          1.0     3          2008    9.0\n",
       "3       The Godfather Part II          0.0     4          1974    9.0\n",
       "4                12 Angry Men          0.0     5          1957    9.0\n",
       "..                        ...          ...   ...           ...    ...\n",
       "245                  The Help          2.0   246          2011    8.1\n",
       "246     It Happened One Night          0.0   247          1934    8.1\n",
       "247                   Aladdin          0.0   248          1992    8.0\n",
       "248        Dances with Wolves          0.0   249          1990    8.0\n",
       "249              Paris, Texas          0.0   250          1984    8.1\n",
       "\n",
       "[250 rows x 5 columns]"
      ]
     },
     "execution_count": 49,
     "metadata": {},
     "output_type": "execute_result"
    }
   ],
   "source": [
    "#how many celebrities each movie has\n",
    "Movie_num = Movie_n_Celebrity.groupby(['English_Title'])['Cele_name'].count().reset_index()\n",
    "Movie_num = Movie_num.merge(Top_movie[['Rank','English_Title','Release Year','Rating']],how='right',on=['English_Title'])\n",
    "Movie_num['Cele_name'].fillna(0,inplace = True)\n",
    "Movie_num.rename(columns={'Cele_name':'Cele_amount'},inplace = True)\n",
    "Movie_num"
   ]
  },
  {
   "cell_type": "code",
   "execution_count": 51,
   "id": "343f5cba",
   "metadata": {},
   "outputs": [
    {
     "data": {
      "text/html": [
       "<div>\n",
       "<style scoped>\n",
       "    .dataframe tbody tr th:only-of-type {\n",
       "        vertical-align: middle;\n",
       "    }\n",
       "\n",
       "    .dataframe tbody tr th {\n",
       "        vertical-align: top;\n",
       "    }\n",
       "\n",
       "    .dataframe thead th {\n",
       "        text-align: right;\n",
       "    }\n",
       "</style>\n",
       "<table border=\"1\" class=\"dataframe\">\n",
       "  <thead>\n",
       "    <tr style=\"text-align: right;\">\n",
       "      <th></th>\n",
       "      <th>Cele_name</th>\n",
       "      <th>Movie_amt</th>\n",
       "      <th>Rank</th>\n",
       "      <th>Role(s)</th>\n",
       "    </tr>\n",
       "  </thead>\n",
       "  <tbody>\n",
       "    <tr>\n",
       "      <th>0</th>\n",
       "      <td>Aaron Taylor-Johnson</td>\n",
       "      <td>0.0</td>\n",
       "      <td>1</td>\n",
       "      <td>Actor, Producer, Writer</td>\n",
       "    </tr>\n",
       "    <tr>\n",
       "      <th>1</th>\n",
       "      <td>Kaya Scodelario</td>\n",
       "      <td>0.0</td>\n",
       "      <td>2</td>\n",
       "      <td>Actress</td>\n",
       "    </tr>\n",
       "    <tr>\n",
       "      <th>2</th>\n",
       "      <td>Sydney Sweeney</td>\n",
       "      <td>0.0</td>\n",
       "      <td>3</td>\n",
       "      <td>Actress, Producer</td>\n",
       "    </tr>\n",
       "    <tr>\n",
       "      <th>3</th>\n",
       "      <td>Theo James</td>\n",
       "      <td>0.0</td>\n",
       "      <td>4</td>\n",
       "      <td>Actor, Producer, Executive</td>\n",
       "    </tr>\n",
       "    <tr>\n",
       "      <th>4</th>\n",
       "      <td>Anna Sawai</td>\n",
       "      <td>0.0</td>\n",
       "      <td>5</td>\n",
       "      <td>Actress</td>\n",
       "    </tr>\n",
       "    <tr>\n",
       "      <th>...</th>\n",
       "      <td>...</td>\n",
       "      <td>...</td>\n",
       "      <td>...</td>\n",
       "      <td>...</td>\n",
       "    </tr>\n",
       "    <tr>\n",
       "      <th>95</th>\n",
       "      <td>Vanessa Kirby</td>\n",
       "      <td>0.0</td>\n",
       "      <td>96</td>\n",
       "      <td>Actress, Producer, Soundtrack</td>\n",
       "    </tr>\n",
       "    <tr>\n",
       "      <th>96</th>\n",
       "      <td>Tom Cruise</td>\n",
       "      <td>1.0</td>\n",
       "      <td>97</td>\n",
       "      <td>Actor, Producer, Director</td>\n",
       "    </tr>\n",
       "    <tr>\n",
       "      <th>97</th>\n",
       "      <td>Glen Powell</td>\n",
       "      <td>1.0</td>\n",
       "      <td>98</td>\n",
       "      <td>Actor, Producer, Writer</td>\n",
       "    </tr>\n",
       "    <tr>\n",
       "      <th>98</th>\n",
       "      <td>Monica Bellucci</td>\n",
       "      <td>0.0</td>\n",
       "      <td>99</td>\n",
       "      <td>Actress, Producer, Soundtrack</td>\n",
       "    </tr>\n",
       "    <tr>\n",
       "      <th>99</th>\n",
       "      <td>Tobias Menzies</td>\n",
       "      <td>0.0</td>\n",
       "      <td>100</td>\n",
       "      <td>Actor, Writer, Soundtrack</td>\n",
       "    </tr>\n",
       "  </tbody>\n",
       "</table>\n",
       "<p>100 rows × 4 columns</p>\n",
       "</div>"
      ],
      "text/plain": [
       "               Cele_name  Movie_amt  Rank                        Role(s)\n",
       "0   Aaron Taylor-Johnson        0.0     1        Actor, Producer, Writer\n",
       "1        Kaya Scodelario        0.0     2                        Actress\n",
       "2         Sydney Sweeney        0.0     3              Actress, Producer\n",
       "3             Theo James        0.0     4     Actor, Producer, Executive\n",
       "4             Anna Sawai        0.0     5                        Actress\n",
       "..                   ...        ...   ...                            ...\n",
       "95         Vanessa Kirby        0.0    96  Actress, Producer, Soundtrack\n",
       "96            Tom Cruise        1.0    97      Actor, Producer, Director\n",
       "97           Glen Powell        1.0    98        Actor, Producer, Writer\n",
       "98       Monica Bellucci        0.0    99  Actress, Producer, Soundtrack\n",
       "99        Tobias Menzies        0.0   100      Actor, Writer, Soundtrack\n",
       "\n",
       "[100 rows x 4 columns]"
      ]
     },
     "execution_count": 51,
     "metadata": {},
     "output_type": "execute_result"
    }
   ],
   "source": [
    "#how many top movies each celebrity has\n",
    "cele_num = Movie_n_Celebrity.groupby(['Cele_name'])['English_Title'].count().reset_index()\n",
    "cele_num = cele_num.merge(Celebrity.rename(columns={'Name':'Cele_name'})[['Rank','Cele_name','Role(s)']],how='right',on=['Cele_name'])\n",
    "cele_num['English_Title'].fillna(0,inplace = True)\n",
    "cele_num.rename(columns={'English_Title':'Movie_amt'},inplace = True)\n",
    "cele_num"
   ]
  },
  {
   "cell_type": "markdown",
   "id": "d8f84408",
   "metadata": {},
   "source": [
    "Step 4.Visualization"
   ]
  },
  {
   "cell_type": "code",
   "execution_count": 57,
   "id": "eb36dfc1",
   "metadata": {},
   "outputs": [
    {
     "data": {
      "image/png": "[encoded data removed]",
      "text/plain": [
       "<Figure size 640x480 with 1 Axes>"
      ]
     },
     "metadata": {},
     "output_type": "display_data"
    }
   ],
   "source": [
    "#The Movie\n",
    "Movie_visual = Movie_num.groupby(['Cele_amount'])['English_Title'].count().reset_index()\n",
    "plt.bar(Movie_visual['Cele_amount'], Movie_visual['English_Title'])\n",
    "\n",
    "plt.title('Bar chart')\n",
    "plt.xlabel('The number of celebrity each movie has')\n",
    "plt.ylabel('Movie_amount')\n",
    "\n",
    "\n",
    "for i in range(len(Movie_visual)):\n",
    "    plt.text(Movie_visual['Cele_amount'][i], Movie_visual['English_Title'][i] + 1, str(Movie_visual['English_Title'][i]), ha='center')\n",
    "\n",
    "\n",
    "plt.show()"
   ]
  },
  {
   "cell_type": "code",
   "execution_count": 60,
   "id": "3e6850e5",
   "metadata": {},
   "outputs": [
    {
     "data": {
      "image/png": "[encoded data removed]",
      "text/plain": [
       "<Figure size 640x480 with 1 Axes>"
      ]
     },
     "metadata": {},
     "output_type": "display_data"
    }
   ],
   "source": [
    "#The Celebrity\n",
    "Cele_visual = cele_num.groupby(['Movie_amt'])['Cele_name'].count().reset_index()\n",
    "plt.bar(Cele_visual['Movie_amt'], Cele_visual['Cele_name'])\n",
    "\n",
    "plt.title('Bar chart')\n",
    "plt.xlabel('The number of top movie each celebrity has')\n",
    "plt.ylabel('Cele_amount')\n",
    "\n",
    "\n",
    "for i in range(len(Cele_visual)):\n",
    "    plt.text(Cele_visual['Movie_amt'][i], Cele_visual['Cele_name'][i] + 1, str(Cele_visual['Cele_name'][i]), ha='center')\n",
    "\n",
    "\n",
    "plt.show()"
   ]
  },
  {
   "cell_type": "code",
   "execution_count": null,
   "id": "09a6abe6",
   "metadata": {},
   "outputs": [],
   "source": []
  }
 ],
 "metadata": {
  "kernelspec": {
   "display_name": "Python 3 (ipykernel)",
   "language": "python",
   "name": "python3"
  },
  "language_info": {
   "codemirror_mode": {
    "name": "ipython",
    "version": 3
   },
   "file_extension": ".py",
   "mimetype": "text/x-python",
   "name": "python",
   "nbconvert_exporter": "python",
   "pygments_lexer": "ipython3",
   "version": "3.11.3"
  }
 },
 "nbformat": 4,
 "nbformat_minor": 5
}
