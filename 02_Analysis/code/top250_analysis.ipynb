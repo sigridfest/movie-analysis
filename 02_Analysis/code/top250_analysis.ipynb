{
 "cells": [
  {
   "cell_type": "code",
   "execution_count": 2,
   "metadata": {},
   "outputs": [
    {
     "ename": "ModuleNotFoundError",
     "evalue": "No module named 'seaborn'",
     "output_type": "error",
     "traceback": [
      "\u001b[1;31m---------------------------------------------------------------------------\u001b[0m",
      "\u001b[1;31mModuleNotFoundError\u001b[0m                       Traceback (most recent call last)",
      "Cell \u001b[1;32mIn[2], line 3\u001b[0m\n\u001b[0;32m      1\u001b[0m \u001b[38;5;28;01mimport\u001b[39;00m \u001b[38;5;21;01mpandas\u001b[39;00m \u001b[38;5;28;01mas\u001b[39;00m \u001b[38;5;21;01mpd\u001b[39;00m\n\u001b[0;32m      2\u001b[0m \u001b[38;5;28;01mimport\u001b[39;00m \u001b[38;5;21;01mnumpy\u001b[39;00m \u001b[38;5;28;01mas\u001b[39;00m \u001b[38;5;21;01mnp\u001b[39;00m\n\u001b[1;32m----> 3\u001b[0m \u001b[38;5;28;01mimport\u001b[39;00m \u001b[38;5;21;01mseaborn\u001b[39;00m \u001b[38;5;28;01mas\u001b[39;00m \u001b[38;5;21;01msns\u001b[39;00m\n\u001b[0;32m      4\u001b[0m \u001b[38;5;28;01mimport\u001b[39;00m \u001b[38;5;21;01mmatplotlib\u001b[39;00m\u001b[38;5;21;01m.\u001b[39;00m\u001b[38;5;21;01mpyplot\u001b[39;00m \u001b[38;5;28;01mas\u001b[39;00m \u001b[38;5;21;01mplt\u001b[39;00m\n\u001b[0;32m      5\u001b[0m \u001b[38;5;66;03m# import re\u001b[39;00m\n",
      "\u001b[1;31mModuleNotFoundError\u001b[0m: No module named 'seaborn'"
     ]
    }
   ],
   "source": [
    "import pandas as pd\n",
    "import numpy as np\n",
    "import seaborn as sns\n",
    "import matplotlib.pyplot as plt\n",
    "# import re\n",
    "from pathlib import Path"
   ]
  },
  {
   "cell_type": "code",
   "execution_count": null,
   "metadata": {},
   "outputs": [],
   "source": [
    "basepath = Path(\"../../01_Scraping/data\")"
   ]
  },
  {
   "cell_type": "code",
   "execution_count": 17,
   "metadata": {},
   "outputs": [],
   "source": [
    "# Load dataset\n",
    "df = pd.read_csv(basepath / Path(\"imdb_top_250.csv\"), sep = ';')"
   ]
  },
  {
   "cell_type": "markdown",
   "metadata": {},
   "source": [
    "# Data Cleaning"
   ]
  },
  {
   "cell_type": "code",
   "execution_count": 18,
   "metadata": {},
   "outputs": [
    {
     "data": {
      "text/plain": [
       "False"
      ]
     },
     "execution_count": 18,
     "metadata": {},
     "output_type": "execute_result"
    }
   ],
   "source": [
    "df.isnull().values.any()"
   ]
  },
  {
   "cell_type": "markdown",
   "metadata": {},
   "source": [
    "# Data Preparation"
   ]
  },
  {
   "cell_type": "code",
   "execution_count": 19,
   "metadata": {},
   "outputs": [
    {
     "data": {
      "text/plain": [
       "Index(['Rank', 'Title', 'Release Year', 'Duration', 'Age Rating', 'Rating',\n",
       "       'Amount of Reviews'],\n",
       "      dtype='object')"
      ]
     },
     "execution_count": 19,
     "metadata": {},
     "output_type": "execute_result"
    }
   ],
   "source": [
    "df.columns"
   ]
  },
  {
   "cell_type": "code",
   "execution_count": 20,
   "metadata": {},
   "outputs": [
    {
     "data": {
      "text/html": [
       "<div>\n",
       "<style scoped>\n",
       "    .dataframe tbody tr th:only-of-type {\n",
       "        vertical-align: middle;\n",
       "    }\n",
       "\n",
       "    .dataframe tbody tr th {\n",
       "        vertical-align: top;\n",
       "    }\n",
       "\n",
       "    .dataframe thead th {\n",
       "        text-align: right;\n",
       "    }\n",
       "</style>\n",
       "<table border=\"1\" class=\"dataframe\">\n",
       "  <thead>\n",
       "    <tr style=\"text-align: right;\">\n",
       "      <th></th>\n",
       "      <th>Rank</th>\n",
       "      <th>Title</th>\n",
       "      <th>Release Year</th>\n",
       "      <th>Duration</th>\n",
       "      <th>Age Rating</th>\n",
       "      <th>Rating</th>\n",
       "      <th>Amount of Reviews</th>\n",
       "    </tr>\n",
       "  </thead>\n",
       "  <tbody>\n",
       "    <tr>\n",
       "      <th>0</th>\n",
       "      <td>1</td>\n",
       "      <td>Frihetens regn</td>\n",
       "      <td>1994</td>\n",
       "      <td>2h 22m</td>\n",
       "      <td>15</td>\n",
       "      <td>9.3</td>\n",
       "      <td>2.9M</td>\n",
       "    </tr>\n",
       "    <tr>\n",
       "      <th>1</th>\n",
       "      <td>2</td>\n",
       "      <td>Gudfaren</td>\n",
       "      <td>1972</td>\n",
       "      <td>2h 55m</td>\n",
       "      <td>15</td>\n",
       "      <td>9.2</td>\n",
       "      <td>2M</td>\n",
       "    </tr>\n",
       "    <tr>\n",
       "      <th>2</th>\n",
       "      <td>3</td>\n",
       "      <td>The Dark Knight</td>\n",
       "      <td>2008</td>\n",
       "      <td>2h 32m</td>\n",
       "      <td>15</td>\n",
       "      <td>9.0</td>\n",
       "      <td>2.9M</td>\n",
       "    </tr>\n",
       "    <tr>\n",
       "      <th>3</th>\n",
       "      <td>4</td>\n",
       "      <td>Gudfaren - del II</td>\n",
       "      <td>1974</td>\n",
       "      <td>3h 22m</td>\n",
       "      <td>15</td>\n",
       "      <td>9.0</td>\n",
       "      <td>1.4M</td>\n",
       "    </tr>\n",
       "    <tr>\n",
       "      <th>4</th>\n",
       "      <td>5</td>\n",
       "      <td>12 edsvorne menn</td>\n",
       "      <td>1957</td>\n",
       "      <td>1h 36m</td>\n",
       "      <td>16</td>\n",
       "      <td>9.0</td>\n",
       "      <td>860000</td>\n",
       "    </tr>\n",
       "  </tbody>\n",
       "</table>\n",
       "</div>"
      ],
      "text/plain": [
       "   Rank              Title  Release Year Duration Age Rating Rating  \\\n",
       "0     1     Frihetens regn          1994   2h 22m         15    9.3   \n",
       "1     2           Gudfaren          1972   2h 55m         15    9.2   \n",
       "2     3    The Dark Knight          2008   2h 32m         15    9.0   \n",
       "3     4  Gudfaren - del II          1974   3h 22m         15    9.0   \n",
       "4     5   12 edsvorne menn          1957   1h 36m         16    9.0   \n",
       "\n",
       "  Amount of Reviews  \n",
       "0              2.9M  \n",
       "1                2M  \n",
       "2              2.9M  \n",
       "3              1.4M  \n",
       "4            860000  "
      ]
     },
     "execution_count": 20,
     "metadata": {},
     "output_type": "execute_result"
    }
   ],
   "source": [
    "df.head()"
   ]
  },
  {
   "cell_type": "code",
   "execution_count": 21,
   "metadata": {},
   "outputs": [
    {
     "data": {
      "text/plain": [
       "Rank                  int64\n",
       "Title                object\n",
       "Release Year          int64\n",
       "Duration             object\n",
       "Age Rating           object\n",
       "Rating               object\n",
       "Amount of Reviews    object\n",
       "dtype: object"
      ]
     },
     "execution_count": 21,
     "metadata": {},
     "output_type": "execute_result"
    }
   ],
   "source": [
    "df.dtypes"
   ]
  },
  {
   "cell_type": "markdown",
   "metadata": {},
   "source": [
    "except for \"Rand\" and \"Release Year\" all are non-numeric variables.\n",
    "\"Age Rating\", \"Title\" and \"Ranking\" are not interesting for analyse rating. so they can be dropped from the column.\n",
    "\"Duration\", \"Rating\" and \"Amount of Reviews\" are needed to be transferred into numeric variables"
   ]
  },
  {
   "cell_type": "code",
   "execution_count": 22,
   "metadata": {},
   "outputs": [
    {
     "data": {
      "text/plain": [
       "Rank                  int64\n",
       "Title                object\n",
       "Release Year          int64\n",
       "Duration              int64\n",
       "Age Rating           object\n",
       "Rating               object\n",
       "Amount of Reviews    object\n",
       "dtype: object"
      ]
     },
     "execution_count": 22,
     "metadata": {},
     "output_type": "execute_result"
    }
   ],
   "source": [
    "# x_org = df.drop(['Rank', 'Title', 'Age Rating', 'Rating'], axis=1)\n",
    "# x_mapped = x_org\n",
    "# y_org = df['Rating']\n",
    "# y_mapped = y_org\n",
    "\n",
    "df_mapped = df\n",
    "# Mapping duration\n",
    "def duration_to_minutes(duration):\n",
    "   parts = duration.split(' ')\n",
    "   hours = 0\n",
    "   minutes = 0\n",
    "   for part in parts:\n",
    "      if 'h' in part:\n",
    "         hours = int(part[:-1])\n",
    "      elif 'm' in part:\n",
    "         minutes = int(part[:-1])\n",
    "#    print(hours, \"\\n\")\n",
    "#    print(minutes)\n",
    "#    print(hours, minutes)\n",
    "   total_minutes = hours * 60 + minutes\n",
    "#    print(total_minutes)\n",
    "   return total_minutes\n",
    "\n",
    "df_mapped['Duration'] = df['Duration'].apply(duration_to_minutes)\n",
    "\n",
    "df_mapped.dtypes"
   ]
  },
  {
   "cell_type": "code",
   "execution_count": 23,
   "metadata": {},
   "outputs": [
    {
     "data": {
      "text/plain": [
       "Rank                   int64\n",
       "Title                 object\n",
       "Release Year           int64\n",
       "Duration               int64\n",
       "Age Rating            object\n",
       "Rating                object\n",
       "Amount of Reviews    float64\n",
       "dtype: object"
      ]
     },
     "execution_count": 23,
     "metadata": {},
     "output_type": "execute_result"
    }
   ],
   "source": [
    "# Map Amount of Reviews\n",
    "def Review_num_map(review):\n",
    "   if review[-1] == 'M':\n",
    "      review = float(review[:-1]) * 1e6\n",
    "      # print(review)\n",
    "      return review\n",
    "   elif review[-1] == 'B':\n",
    "      review = float(review[:-1]) * 1e9\n",
    "      # print(review)\n",
    "      return review\n",
    "   elif review[-1] == 'K':\n",
    "      review = float(review[:-1]) * 1e3\n",
    "      # print(review)\n",
    "      return review\n",
    "   else:\n",
    "      # print(review)\n",
    "      try:\n",
    "         return float(review)\n",
    "      except ValueError:\n",
    "         return float('nan')  # Some amount of reviews are \"Rate\" or other strings\n",
    "      \n",
    "\n",
    "df_mapped['Amount of Reviews'] = df['Amount of Reviews'].apply(Review_num_map)\n",
    "\n",
    "df_mapped.dtypes"
   ]
  },
  {
   "cell_type": "code",
   "execution_count": 24,
   "metadata": {},
   "outputs": [
    {
     "data": {
      "text/plain": [
       "Rank                   int64\n",
       "Title                 object\n",
       "Release Year           int64\n",
       "Duration               int64\n",
       "Age Rating            object\n",
       "Rating               float64\n",
       "Amount of Reviews    float64\n",
       "dtype: object"
      ]
     },
     "execution_count": 24,
     "metadata": {},
     "output_type": "execute_result"
    }
   ],
   "source": [
    "# Map Ratings\n",
    "def rating_mapping(rating):\n",
    "    try:\n",
    "        return float(rating)\n",
    "    except ValueError:\n",
    "        return float('nan')\n",
    "df_mapped['Rating'] =  df['Rating'].apply(rating_mapping)\n",
    "df_mapped.dtypes"
   ]
  },
  {
   "cell_type": "code",
   "execution_count": 25,
   "metadata": {},
   "outputs": [
    {
     "data": {
      "text/plain": [
       "True"
      ]
     },
     "execution_count": 25,
     "metadata": {},
     "output_type": "execute_result"
    }
   ],
   "source": [
    "# Clean data and initial feature selection\n",
    "df_mapped.isnull().values.any()\n",
    "# The result shows there are missing values in the current dataset "
   ]
  },
  {
   "cell_type": "code",
   "execution_count": 26,
   "metadata": {},
   "outputs": [
    {
     "data": {
      "text/plain": [
       "False"
      ]
     },
     "execution_count": 26,
     "metadata": {},
     "output_type": "execute_result"
    }
   ],
   "source": [
    "# Drop the missing data -> \n",
    "# can be better to give the missing rating value an approximate rating according to the rating above and below it\n",
    "df_mapped=df_mapped.dropna(axis=0, how='any')\n",
    "df_mapped.isnull().values.any()"
   ]
  },
  {
   "cell_type": "markdown",
   "metadata": {},
   "source": [
    "# Correlation"
   ]
  },
  {
   "cell_type": "code",
   "execution_count": 27,
   "metadata": {},
   "outputs": [
    {
     "data": {
      "image/png": "[encoded data removed]",
      "text/plain": [
       "<Figure size 1000x800 with 2 Axes>"
      ]
     },
     "metadata": {},
     "output_type": "display_data"
    }
   ],
   "source": [
    "x_mapped = df_mapped.drop(['Rank', 'Title', 'Age Rating', 'Rating'], axis=1)\n",
    "y_mapped = df_mapped['Rating']\n",
    "\n",
    "correlation_matrix = pd.concat([x_mapped, y_mapped], axis=1).corr()\n",
    "# Create a heatmap\n",
    "plt.figure(figsize=(10, 8))\n",
    "sns.heatmap(correlation_matrix, annot=True,vmin=-1, vmax=1, cmap='coolwarm', fmt='.2f', linewidths=0.5)\n",
    "plt.title('Correlation Heatmap')\n",
    "plt.show()"
   ]
  }
 ],
 "metadata": {
  "kernelspec": {
   "display_name": "Python 3",
   "language": "python",
   "name": "python3"
  },
  "language_info": {
   "codemirror_mode": {
    "name": "ipython",
    "version": 3
   },
   "file_extension": ".py",
   "mimetype": "text/x-python",
   "name": "python",
   "nbconvert_exporter": "python",
   "pygments_lexer": "ipython3",
   "version": "3.11.4"
  }
 },
 "nbformat": 4,
 "nbformat_minor": 2
}
